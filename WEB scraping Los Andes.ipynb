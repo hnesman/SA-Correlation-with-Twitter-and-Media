{
 "cells": [
  {
   "cell_type": "code",
   "execution_count": 1,
   "metadata": {
    "collapsed": true
   },
   "outputs": [],
   "source": [
    "# -*- coding: utf-8 -*-\n",
    "import bs4 as bs\n",
    "from urllib import urlopen as uReq\n",
    "import sys\n",
    "import string\n",
    "import pandas as pd\n",
    "import numpy as np"
   ]
  },
  {
   "cell_type": "code",
   "execution_count": 8,
   "metadata": {
    "collapsed": false
   },
   "outputs": [
    {
     "name": "stdout",
     "output_type": "stream",
     "text": [
      "1\n",
      "2\n"
     ]
    }
   ],
   "source": [
    "for i in range(1,3):\n",
    "    print i"
   ]
  },
  {
   "cell_type": "code",
   "execution_count": 9,
   "metadata": {
    "collapsed": false
   },
   "outputs": [
    {
     "name": "stdout",
     "output_type": "stream",
     "text": [
      "2017-5-1\n",
      "2017-5-2\n"
     ]
    }
   ],
   "source": [
    "filename = '/users/hnesman/Downloads/DATA_Science/losAndes_.txt'\n",
    "f = open(filename,'w')\n",
    "headers = \"Date|Title|Encabezado|SecLabel|\\n\"\n",
    "f.write(headers)\n",
    "\n",
    "fecha=[]\n",
    "for i in range(1,3):\n",
    "\n",
    "    fecha.append('2017-5-%s' %i)\n",
    "\n",
    "\n",
    "for i in fecha:\n",
    "    url = 'http://losandes.com.ar/titulos/%s' %i\n",
    "    sauce = uReq(url)\n",
    "        # does the parsing\n",
    "    soup = bs.BeautifulSoup(sauce,'html.parser')\n",
    "        # gets the tabs containing the date from the BS object\n",
    "\n",
    "    seccion = soup.findAll('section',{'class':'secciondiario'})\n",
    "    \n",
    "    economia= seccion[0]\n",
    "    mundo = seccion[1]\n",
    "    politica = seccion[3]\n",
    "    deportes = seccion[4]\n",
    "    policiales = seccion[5]\n",
    "    \n",
    "    date = i\n",
    "    print date\n",
    "    \n",
    "    year, month, day = date.split('-')\n",
    "    \n",
    "    month = '0' + month\n",
    "    \n",
    "    # I work on the format of the dates (day / month)\n",
    "    if day in ['1','2','3','4','5','6','7','8','9']:\n",
    "        day = '0' + day\n",
    "    else:\n",
    "        day = day\n",
    "    \n",
    "    date = day + '/' + month + '/' + year\n",
    "    \n",
    "    noticia = politica.findAll('li')\n",
    "\n",
    "    for i in noticia:\n",
    "        title = i.a\n",
    "\n",
    "        f.write(date +'|' + str(title).replace('<a href=\"/article/','').replace('</a>','').replace('-',' ') + '|'+ '|'+ 'Política' + '\\n')\n",
    "\n",
    "\n",
    "    noticia = deportes.findAll('li')\n",
    "\n",
    "    for i in noticia:\n",
    "        title = i.a\n",
    "\n",
    "        f.write(date + '|' + str(title).replace('<a href=\"/article/','').replace('</a>','').replace('-',' ') +'|'+ '|'+ 'Deportes' + '\\n')\n",
    "\n",
    "    noticia = economia.findAll('li')\n",
    "\n",
    "    for i in noticia:\n",
    "        title = i.a\n",
    "\n",
    "        f.write(date + '|' + str(title).replace('<a href=\"/article/','').replace('</a>','').replace('-',' ') + '|'+ '|'+ 'Economia' + '\\n')\n",
    "    \n",
    "    noticia = mundo.findAll('li')\n",
    "    \n",
    "    for i in noticia:\n",
    "        title = i.a\n",
    "\n",
    "        f.write(date + '|' + str(title).replace('<a href=\"/article/','').replace('</a>','').replace('-',' ') +'|'+ '|'+ 'Mundo' + '\\n')\n",
    "    \n",
    "    noticia = policiales.findAll('li')\n",
    "    \n",
    "    for i in noticia:\n",
    "        title = i.a\n",
    "\n",
    "        f.write(date + '|' + str(title).replace('<a href=\"/article/','').replace('</a>','').replace('-',' ') +'|'+ '|'+ 'Policiales' +  '\\n')\n",
    "           \n",
    "f.close()"
   ]
  },
  {
   "cell_type": "code",
   "execution_count": 11,
   "metadata": {
    "collapsed": false
   },
   "outputs": [
    {
     "data": {
      "text/html": [
       "<div>\n",
       "<table border=\"1\" class=\"dataframe\">\n",
       "  <thead>\n",
       "    <tr style=\"text-align: right;\">\n",
       "      <th></th>\n",
       "      <th>Date</th>\n",
       "      <th>Title</th>\n",
       "      <th>Encabezado</th>\n",
       "      <th>SecLabel</th>\n",
       "      <th>Media</th>\n",
       "    </tr>\n",
       "  </thead>\n",
       "  <tbody>\n",
       "    <tr>\n",
       "      <th>0</th>\n",
       "      <td>30/04/2017</td>\n",
       "      <td>bajo efecto trump macri prepara su viaje a chi...</td>\n",
       "      <td>bajo efecto trump macri prepara su viaje a chi...</td>\n",
       "      <td>Política</td>\n",
       "      <td>Los Andes</td>\n",
       "    </tr>\n",
       "    <tr>\n",
       "      <th>1</th>\n",
       "      <td>30/04/2017</td>\n",
       "      <td>capusotto reivindico al kirchnerismo y critico...</td>\n",
       "      <td>capusotto reivindico al kirchnerismo y critico...</td>\n",
       "      <td>Política</td>\n",
       "      <td>Los Andes</td>\n",
       "    </tr>\n",
       "    <tr>\n",
       "      <th>2</th>\n",
       "      <td>30/04/2017</td>\n",
       "      <td>condena millonaria de la corte contra el gobie...</td>\n",
       "      <td>condena millonaria de la corte contra el gobie...</td>\n",
       "      <td>Política</td>\n",
       "      <td>Los Andes</td>\n",
       "    </tr>\n",
       "    <tr>\n",
       "      <th>3</th>\n",
       "      <td>30/04/2017</td>\n",
       "      <td>embargan a ate por cortar la calle en una prot...</td>\n",
       "      <td>embargan a ate por cortar la calle en una prot...</td>\n",
       "      <td>Política</td>\n",
       "      <td>Los Andes</td>\n",
       "    </tr>\n",
       "    <tr>\n",
       "      <th>4</th>\n",
       "      <td>30/04/2017</td>\n",
       "      <td>las madres de plaza de mayo cumplen 40 anos de...</td>\n",
       "      <td>las madres de plaza de mayo cumplen 40 anos de...</td>\n",
       "      <td>Política</td>\n",
       "      <td>Los Andes</td>\n",
       "    </tr>\n",
       "  </tbody>\n",
       "</table>\n",
       "</div>"
      ],
      "text/plain": [
       "         Date                                              Title  \\\n",
       "0  30/04/2017  bajo efecto trump macri prepara su viaje a chi...   \n",
       "1  30/04/2017  capusotto reivindico al kirchnerismo y critico...   \n",
       "2  30/04/2017  condena millonaria de la corte contra el gobie...   \n",
       "3  30/04/2017  embargan a ate por cortar la calle en una prot...   \n",
       "4  30/04/2017  las madres de plaza de mayo cumplen 40 anos de...   \n",
       "\n",
       "                                          Encabezado  SecLabel      Media  \n",
       "0  bajo efecto trump macri prepara su viaje a chi...  Política  Los Andes  \n",
       "1  capusotto reivindico al kirchnerismo y critico...  Política  Los Andes  \n",
       "2  condena millonaria de la corte contra el gobie...  Política  Los Andes  \n",
       "3  embargan a ate por cortar la calle en una prot...  Política  Los Andes  \n",
       "4  las madres de plaza de mayo cumplen 40 anos de...  Política  Los Andes  "
      ]
     },
     "execution_count": 11,
     "metadata": {},
     "output_type": "execute_result"
    }
   ],
   "source": [
    "LosAndes = pd.read_table('/users/hnesman/Downloads/DATA_Science/losAndes_1.txt',delimiter=\"|\")\n",
    "LosAndes['Encabezado'] = LosAndes['Title']\n",
    "LosAndes['Media'] = 'Los Andes'\n",
    "LosAndes = LosAndes.drop('Unnamed: 4', axis =1)\n",
    "LosAndes.columns = ['Date','Title','Encabezado','SecLabel','Media']\n",
    "LosAndes.to_csv('/users/hnesman/Downloads/DATA_Science/LosAndes_1.csv',encoding='utf-8')\n",
    "LosAndes.head()"
   ]
  }
 ],
 "metadata": {
  "kernelspec": {
   "display_name": "Python 2",
   "language": "python",
   "name": "python2"
  },
  "language_info": {
   "codemirror_mode": {
    "name": "ipython",
    "version": 2
   },
   "file_extension": ".py",
   "mimetype": "text/x-python",
   "name": "python",
   "nbconvert_exporter": "python",
   "pygments_lexer": "ipython2",
   "version": "2.7.13"
  }
 },
 "nbformat": 4,
 "nbformat_minor": 2
}

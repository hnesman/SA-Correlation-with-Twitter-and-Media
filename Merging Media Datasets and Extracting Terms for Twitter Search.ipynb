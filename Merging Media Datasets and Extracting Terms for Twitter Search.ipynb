{
 "cells": [
  {
   "cell_type": "code",
   "execution_count": 13,
   "metadata": {
    "collapsed": false
   },
   "outputs": [],
   "source": [
    "import pandas as pd\n",
    "import matplotlib.pyplot as plt\n",
    "import numpy as np\n",
    "import pylab as pl\n",
    "%matplotlib inline"
   ]
  },
  {
   "cell_type": "code",
   "execution_count": 9,
   "metadata": {
    "collapsed": false
   },
   "outputs": [],
   "source": [
    "# Opening the files into dataFrames\n",
    "LosAndes = pd.read_csv('/users/hnesman/Downloads/DATA_Science/LosAndes.csv')\n",
    "LaNacion = pd.read_csv('/users/hnesman/Downloads/DATA_Science/LaNacion.csv')\n",
    "LaVoz = pd.read_csv('/users/hnesman/Downloads/DATA_Science/LaVoz.csv')"
   ]
  },
  {
   "cell_type": "code",
   "execution_count": 25,
   "metadata": {
    "collapsed": false
   },
   "outputs": [
    {
     "name": "stdout",
     "output_type": "stream",
     "text": [
      "152\n",
      "1002\n",
      "249\n"
     ]
    },
    {
     "data": {
      "text/plain": [
       "array([[<matplotlib.axes._subplots.AxesSubplot object at 0x11cf23b10>]], dtype=object)"
      ]
     },
     "execution_count": 25,
     "metadata": {},
     "output_type": "execute_result"
    },
    {
     "data": {
      "image/png": "[encoded data removed]",
      "text/plain": [
       "<matplotlib.figure.Figure at 0x11d36cd50>"
      ]
     },
     "metadata": {},
     "output_type": "display_data"
    }
   ],
   "source": [
    "#Number of Articles per Newspaper\n",
    "print len(LosAndes)\n",
    "print len(LaNacion)\n",
    "print len(LaVoz)\n",
    "\n",
    "\n",
    "# Do a plot\n",
    "media_len = [len(LosAndes),len(LaNacion), len(LaVoz)]\n",
    "Newspaper = [str('LosAndes'),str('LaNacion'), str('LaVoz')]\n",
    "\n",
    "df = pd.DataFrame({'media_len': media_len, 'Newspaper': Newspaper})\n",
    "df.hist()\n",
    "# I need to learn how to change the labels of the Histogram"
   ]
  },
  {
   "cell_type": "code",
   "execution_count": 6,
   "metadata": {
    "collapsed": false
   },
   "outputs": [
    {
     "data": {
      "text/plain": [
       "1403"
      ]
     },
     "execution_count": 6,
     "metadata": {},
     "output_type": "execute_result"
    }
   ],
   "source": [
    "# Concatenating the dataFrames, drop unused columns and set the name of the 'columns'\n",
    "MediaNews = pd.concat([LosAndes,LaNacion])\n",
    "MediaNews = pd.concat([LaVoz,MediaNews])\n",
    "MediaNews = MediaNews.drop('Unnamed: 0',axis=1)\n",
    "MediaNews.columns = ['Date', 'Title', 'Encabezado', 'Art_Label', 'Media']\n",
    "len(MediaNews)"
   ]
  },
  {
   "cell_type": "code",
   "execution_count": 7,
   "metadata": {
    "collapsed": false
   },
   "outputs": [
    {
     "name": "stdout",
     "output_type": "stream",
     "text": [
      "<class 'pandas.core.frame.DataFrame'>\n",
      "Index([u'Date', u'Title', u'Encabezado', u'Art_Label', u'Media'], dtype='object')\n"
     ]
    },
    {
     "data": {
      "text/html": [
       "<div>\n",
       "<table border=\"1\" class=\"dataframe\">\n",
       "  <thead>\n",
       "    <tr style=\"text-align: right;\">\n",
       "      <th></th>\n",
       "      <th>Date</th>\n",
       "      <th>Title</th>\n",
       "      <th>Encabezado</th>\n",
       "      <th>Art_Label</th>\n",
       "      <th>Media</th>\n",
       "    </tr>\n",
       "  </thead>\n",
       "  <tbody>\n",
       "    <tr>\n",
       "      <th>20</th>\n",
       "      <td>01/05/2017</td>\n",
       "      <td>chiqui tapia vamos a tener una afa que sea el...</td>\n",
       "      <td>chiqui tapia vamos a tener una afa que sea el...</td>\n",
       "      <td>Deportes</td>\n",
       "      <td>Los Andes</td>\n",
       "    </tr>\n",
       "    <tr>\n",
       "      <th>21</th>\n",
       "      <td>01/05/2017</td>\n",
       "      <td>cuando le pegue al arco y la pelota estaba po...</td>\n",
       "      <td>cuando le pegue al arco y la pelota estaba po...</td>\n",
       "      <td>Deportes</td>\n",
       "      <td>Los Andes</td>\n",
       "    </tr>\n",
       "    <tr>\n",
       "      <th>22</th>\n",
       "      <td>01/05/2017</td>\n",
       "      <td>estas igual aparecio un nuevo doble de leo me...</td>\n",
       "      <td>estas igual aparecio un nuevo doble de leo me...</td>\n",
       "      <td>Deportes</td>\n",
       "      <td>Los Andes</td>\n",
       "    </tr>\n",
       "    <tr>\n",
       "      <th>23</th>\n",
       "      <td>01/05/2017</td>\n",
       "      <td>trate de hacer lo mejor posible sintetizo el ...</td>\n",
       "      <td>trate de hacer lo mejor posible sintetizo el ...</td>\n",
       "      <td>Deportes</td>\n",
       "      <td>Los Andes</td>\n",
       "    </tr>\n",
       "    <tr>\n",
       "      <th>24</th>\n",
       "      <td>01/05/2017</td>\n",
       "      <td>arranco la esperada segunda temporada del futb...</td>\n",
       "      <td>arranco la esperada segunda temporada del futb...</td>\n",
       "      <td>Deportes</td>\n",
       "      <td>Los Andes</td>\n",
       "    </tr>\n",
       "  </tbody>\n",
       "</table>\n",
       "</div>"
      ],
      "text/plain": [
       "          Date                                              Title  \\\n",
       "20  01/05/2017   chiqui tapia vamos a tener una afa que sea el...   \n",
       "21  01/05/2017   cuando le pegue al arco y la pelota estaba po...   \n",
       "22  01/05/2017   estas igual aparecio un nuevo doble de leo me...   \n",
       "23  01/05/2017   trate de hacer lo mejor posible sintetizo el ...   \n",
       "24  01/05/2017  arranco la esperada segunda temporada del futb...   \n",
       "\n",
       "                                           Encabezado Art_Label      Media  \n",
       "20   chiqui tapia vamos a tener una afa que sea el...  Deportes  Los Andes  \n",
       "21   cuando le pegue al arco y la pelota estaba po...  Deportes  Los Andes  \n",
       "22   estas igual aparecio un nuevo doble de leo me...  Deportes  Los Andes  \n",
       "23   trate de hacer lo mejor posible sintetizo el ...  Deportes  Los Andes  \n",
       "24  arranco la esperada segunda temporada del futb...  Deportes  Los Andes  "
      ]
     },
     "execution_count": 7,
     "metadata": {},
     "output_type": "execute_result"
    }
   ],
   "source": [
    "# Inspection of the dataset and sorting\n",
    "print type(MediaNews)\n",
    "print MediaNews.columns\n",
    "MediaNews = MediaNews.sort_values(by = ['Date','Art_Label'], axis = 0, ascending = True, inplace = False)\n",
    "MediaNews.head()"
   ]
  },
  {
   "cell_type": "code",
   "execution_count": 11,
   "metadata": {
    "collapsed": false
   },
   "outputs": [],
   "source": [
    "# Create the dictionary for unifying the values of 'Art_Label' and applying the funcion\n",
    "cmap = {'deportiva': 'deportes', 'Deportes': 'deportes', 'econom\\xc3\\xada': 'economia', 'economia': 'economia',\n",
    "        'Economia': 'economia', 'opini\\xc3\\xb3n': 'editorial', 'opinion': 'editorial',\n",
    "        'editorial': 'editorial', 'politica': 'politica', 'Pol\\xc3\\xadtica': 'politica', 'pol\\xc3\\xadtica': 'politica', 'tecnolog\\xc3\\xada': 'otros', 'elcampo': 'otros', 'sucesos': 'policiales', \n",
    "        'seguridad': 'policiales', 'Policiales': 'policiales', 'mundo': 'elmundo', 'Mundo': 'elmundo', 'elmundo': 'elmundo', 'negocios': 'otros','ciudadanos': 'otros'}\n",
    "\n",
    "MediaNews['Art_Label'] = MediaNews.Art_Label.apply(lambda x: cmap[str(x)])"
   ]
  },
  {
   "cell_type": "code",
   "execution_count": 13,
   "metadata": {
    "collapsed": false
   },
   "outputs": [],
   "source": [
    "# Save the file to .csv\n",
    "MediaNews.to_csv('/users/hnesman/Downloads/DATA_Science/MediaNews.csv')"
   ]
  },
  {
   "cell_type": "code",
   "execution_count": 27,
   "metadata": {
    "collapsed": false
   },
   "outputs": [],
   "source": [
    "# Import the libraries for starting the Unsupervised Learning\n",
    "from gensim.models.word2vec import Word2Vec\n",
    "from gensim.matutils import Sparse2Corpus\n",
    "from sklearn.feature_extraction.text import CountVectorizer"
   ]
  },
  {
   "cell_type": "code",
   "execution_count": 28,
   "metadata": {
    "collapsed": false
   },
   "outputs": [
    {
     "data": {
      "text/plain": [
       "Index([u'Date', u'Title', u'Encabezado', u'Art_Label', u'Media'], dtype='object')"
      ]
     },
     "execution_count": 28,
     "metadata": {},
     "output_type": "execute_result"
    }
   ],
   "source": [
    "# Open the file into a dataFrame, clean a column \"Unnamed: 0' that is created everytime I open the .csv file\n",
    "\n",
    "data = pd.read_csv('/users/hnesman/Downloads/DATA_Science/MediaNews.csv', sep=',')\n",
    "data = data.drop('Unnamed: 0', axis=1)\n",
    "data.columns"
   ]
  },
  {
   "cell_type": "code",
   "execution_count": 29,
   "metadata": {
    "collapsed": true
   },
   "outputs": [],
   "source": [
    "import matplotlib.pyplot as plt\n",
    "%matplotlib inline"
   ]
  },
  {
   "cell_type": "code",
   "execution_count": 30,
   "metadata": {
    "collapsed": false,
    "scrolled": true
   },
   "outputs": [
    {
     "name": "stdout",
     "output_type": "stream",
     "text": [
      "politica      332\n",
      "deportes      323\n",
      "elmundo       192\n",
      "otros         191\n",
      "policiales    137\n",
      "economia      132\n",
      "editorial      96\n",
      "Name: Art_Label, dtype: int64\n"
     ]
    },
    {
     "data": {
      "image/png": "[encoded data removed]",
      "text/plain": [
       "<matplotlib.figure.Figure at 0x11d621290>"
      ]
     },
     "metadata": {},
     "output_type": "display_data"
    }
   ],
   "source": [
    "#I want to check how many articles for each Section and Media / Should do a Group By / I have problems with the labels\n",
    "\n",
    "df2 = data['Art_Label'].value_counts()\n",
    "df2.plot(kind = 'hist', xlim = (0,400))\n",
    "print df2"
   ]
  },
  {
   "cell_type": "markdown",
   "metadata": {},
   "source": [
    "## Now I have to prepare for doing the Word Vector routine\n",
    "\n",
    "1) I will set up a list of STOP_WORDS in Spanish, I will feed this list after a couple of outcomes of the Vectorization\n",
    "\n",
    "2) I do the CountVector, I will generate different combinations of 'NGrams', to identify any ambiguous context. \n",
    "    (i.e.: papa, is Pope, and Potatoe in Spanish), this risk is increased by the factor of 'casual' writing in Twitter.\n",
    " \n",
    "3) Last stage, is a visual inspection of the n-NGrams lists created. I did it on Excel, I should explore an option in Python, those freq/words charts? IMPORTANT TO SOLVE\n",
    "\n",
    "4) I cut a final list of terms, based on my expertise. (Otherwise machines would do everything)"
   ]
  },
  {
   "cell_type": "code",
   "execution_count": 88,
   "metadata": {
    "collapsed": true
   },
   "outputs": [],
   "source": [
    "# I set a list of STOP WORDS in Spanish\n",
    "# coding: utf8\n",
    "from __future__ import unicode_literals\n",
    "\n",
    "STOP_WORDS = set(\"\"\" 100 20\n",
    "none anos ano año años actualmente acuerdo adelante ademas además adrede afirmó agregó ahi ahora ahí\n",
    "al algo alguna algunas alguno algunos algún alli allí alrededor ambos ampleamos\n",
    "antano antaño ante anterior antes apenas aproximadamente aquel aquella aquellas\n",
    "aquello aquellos aqui aquél aquélla aquéllas aquéllos aquí arriba arribaabajo\n",
    "aseguró asi así atras aun aunque ayer añadió aún\n",
    "bajo bastante bien breve buen buena buenas bueno buenos\n",
    "cada casi cerca cierta ciertas cierto ciertos cinco claro comentó como con\n",
    "conmigo conocer conseguimos conseguir considera consideró consigo consigue\n",
    "consiguen consigues contigo contra cosas creo cual cuales cualquier cuando\n",
    "cuanta cuantas cuanto cuantos cuatro cuenta cuál cuáles cuándo cuánta cuántas\n",
    "cuánto cuántos cómo\n",
    "da dado dan dar de debajo debe deben debido decir dejó del delante demasiado\n",
    "demás dentro deprisa desde despacio despues después detras detrás dia dias dice\n",
    "dicen dicho dieron diferente diferentes dijeron dijo dio donde dos durante día\n",
    "días dónde\n",
    "ejemplo el ella ellas ello ellos embargo empleais emplean emplear empleas\n",
    "empleo en encima encuentra enfrente enseguida entonces entre era eramos eran\n",
    "eras eres es esa esas ese eso esos esta estaba estaban estado estados estais\n",
    "estamos estan estar estará estas este esto estos estoy estuvo está están ex\n",
    "excepto existe existen explicó expresó él ésa ésas ése ésos ésta éstas éste\n",
    "éstos\n",
    "fin final fue fuera fueron fui fuimos\n",
    "general gran grandes gueno\n",
    "ha haber habia habla hablan habló habrá había habían hace haceis hacemos hacen hacer\n",
    "hacerlo haces hacia haciendo hago han hasta hay haya he hecho hemos hicieron\n",
    "hizo horas hoy hubo\n",
    "igual incluso indicó informo informó intenta intentais intentamos intentan\n",
    "intentar intentas intento ir\n",
    "junto\n",
    "la lado largo las le lejos les llegó lleva llevar lo los luego lugar\n",
    "mal manera manifestó mas mayor me mediante medio mejor mencionó menos menudo mi\n",
    "mia mias mientras mio mios mis misma mismas mismo mismos modo momento mucha\n",
    "muchas mucho muchos muy más mí mía mías mío míos\n",
    "nada nadie ni ninguna ningunas ninguno ningunos ningún no nos nosotras nosotros\n",
    "nuestra nuestras nuestro nuestros nueva nuevas nuevo nuevos nunca\n",
    "ocho os otra otras otro otros\n",
    "pais para parece parte partir pasada pasado paìs peor pero pesar poca pocas\n",
    "poco pocos podeis podemos poder podria podriais podriamos podrian podrias podrá\n",
    "podrán podría podrían poner por porque posible primer primera primero primeros\n",
    "principalmente pronto propia propias propio propios proximo próximo próximos\n",
    "pudo pueda puede pueden puedo pues\n",
    "qeu que quedó queremos quien quienes quiere quiza quizas quizá quizás quién quiénes qué\n",
    "raras realizado realizar realizó repente respecto\n",
    "sabe sabeis sabemos saben saber sabes salvo se sea sean segun segunda segundo\n",
    "según seis ser sera será serán sería señaló si sido siempre siendo siete sigue\n",
    "siguiente sin sino sobre sois sola solamente solas solo solos somos son soy\n",
    "soyos su supuesto sus suya suyas suyo sé sí sólo\n",
    "tal tambien también tampoco tan tanto tarde te temprano tendrá tendrán teneis\n",
    "tenemos tener tenga tengo tenido tenía tercera ti tiempo tiene tienen toda\n",
    "todas todavia todavía todo todos total trabaja trabajais trabajamos trabajan\n",
    "trabajar trabajas trabajo tras trata través tres tu tus tuvo tuya tuyas tuyo\n",
    "tuyos tú\n",
    "ultimo un una unas uno unos usa usais usamos usan usar usas uso usted ustedes\n",
    "última últimas último últimos\n",
    "va vais valor vamos van varias varios vaya veces ver verdad verdadera verdadero\n",
    "vez vosotras vosotros voy vuestra vuestras vuestro vuestros\n",
    "ya yo\n",
    "\"\"\".split())"
   ]
  },
  {
   "cell_type": "code",
   "execution_count": 166,
   "metadata": {
    "collapsed": false
   },
   "outputs": [],
   "source": [
    "# I create my Count Vectorizer in order to Tokenize the articles, I will create a couple CountVect for different\n",
    "# values of ngram_range(): (1,3) - (2-3) - (3,3). With them I will create dataFrames and inspect which are the\n",
    "# n-grams that I can use to search on Twitter.\n",
    "\n",
    "for i in range(1,4):\n",
    "\n",
    "    cv_i = CountVectorizer(binary = False, stop_words = STOP_WORDS, min_df = 3, ngram_range=(i, 3))\n",
    "\n",
    "    docs_i = cv_i.fit_transform(data.Encabezado.dropna())\n",
    "    id2word_i = dict(enumerate(cv_i.get_feature_names()))\n",
    "    if i == 1:\n",
    "        NGram_1 = pd.DataFrame({'index' : id2word_i.keys() , 'ngram' : unicode(id2word_i.values()) })\n",
    "    elif i == 2:\n",
    "        NGram_2 = pd.DataFrame({'index' : id2word_i.keys() , 'ngram' : unicode(id2word_i.values()) })\n",
    "    else:\n",
    "        NGram_3 = pd.DataFrame({'index' : id2word_i.keys() , 'ngram' : unicode(id2word_i.values()) })\n"
   ]
  },
  {
   "cell_type": "code",
   "execution_count": 167,
   "metadata": {
    "collapsed": false
   },
   "outputs": [],
   "source": [
    "# I copied the result of the CountVectorizer into .csv files so I can inspect by my own which 'tokens' I will\n",
    "# use for the Twitter Search\n",
    "\n",
    "NGram_1.to_csv('/users/hnesman/Downloads/DATA_Science/NGram_1.csv')\n",
    "NGram_2.to_csv('/users/hnesman/Downloads/DATA_Science/NGram_2.csv')\n",
    "NGram_3.to_csv('/users/hnesman/Downloads/DATA_Science/NGram_3.csv')\n",
    "\n",
    "# I need techniques to analyze this list with Python, originally I did it with Excel"
   ]
  }
 ],
 "metadata": {
  "kernelspec": {
   "display_name": "Python 2",
   "language": "python",
   "name": "python2"
  },
  "language_info": {
   "codemirror_mode": {
    "name": "ipython",
    "version": 2
   },
   "file_extension": ".py",
   "mimetype": "text/x-python",
   "name": "python",
   "nbconvert_exporter": "python",
   "pygments_lexer": "ipython2",
   "version": "2.7.13"
  }
 },
 "nbformat": 4,
 "nbformat_minor": 2
}

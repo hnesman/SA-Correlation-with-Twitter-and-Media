{
 "cells": [
  {
   "cell_type": "code",
   "execution_count": 1,
   "metadata": {
    "collapsed": true
   },
   "outputs": [],
   "source": [
    "# -*- coding: utf-8 -*-\n",
    "import bs4 as bs\n",
    "from urllib import urlopen as uReq\n",
    "import sys\n",
    "import string\n",
    "import pandas as pd\n",
    "import numpy as np"
   ]
  },
  {
   "cell_type": "code",
   "execution_count": null,
   "metadata": {
    "collapsed": false
   },
   "outputs": [
    {
     "name": "stdout",
     "output_type": "stream",
     "text": [
      "30/04/2017\n"
     ]
    }
   ],
   "source": [
    "# TO GENERATE THE QUERY\n",
    "date_range = pd.date_range('2017-4-30',periods=3, freq='d')\n",
    "date_range = date_range.strftime(\"%Y%m%d\")\n",
    "\n",
    "filename = '/users/hnesman/Downloads/DATA_Science/LaVoz.txt'\n",
    "f = open(filename,'w')\n",
    "headers = \"Date| Title| Encabezado | SecLabel \\n\"\n",
    "f.write(headers)\n",
    "\n",
    "for i in date_range:\n",
    "    \n",
    "    url = 'http://www.lavoz.com.ar/ediciones_anteriores?fecha=%s' %i\n",
    "    date = i\n",
    "    day = date[6:9]\n",
    "    month = date[4:6]\n",
    "    year = date[:4]\n",
    "    date = (day+'/'+month+'/'+year)\n",
    "    print date\n",
    "    sauce = uReq(url)\n",
    "        # does the parsing\n",
    "    soup = bs.BeautifulSoup(sauce,'html.parser')\n",
    "        # gets the tabs containing the date from the BS object\n",
    "    noticias = soup.find_all('div',{'class':'contenido'})\n",
    "    print len(noticias)\n",
    "    for i in noticias:\n",
    "        title = i.a['href']\n",
    "        empty, secLabel, title = title.split('/')\n",
    "        encabezado = title\n",
    "        print i.a['href'], '\\n'\n",
    "        f.write(date +'|'+ encabezado.replace('-',' ') +'|'+ title.replace('-',' ') + '|' + secLabel + '\\n')\n",
    "\n",
    "f.close()"
   ]
  },
  {
   "cell_type": "code",
   "execution_count": 5,
   "metadata": {
    "collapsed": false
   },
   "outputs": [
    {
     "data": {
      "text/html": [
       "<div>\n",
       "<table border=\"1\" class=\"dataframe\">\n",
       "  <thead>\n",
       "    <tr style=\"text-align: right;\">\n",
       "      <th></th>\n",
       "      <th>Date</th>\n",
       "      <th>Title</th>\n",
       "      <th>Encabezado</th>\n",
       "      <th>SecLabel</th>\n",
       "      <th>Media</th>\n",
       "    </tr>\n",
       "  </thead>\n",
       "  <tbody>\n",
       "    <tr>\n",
       "      <th>0</th>\n",
       "      <td>02/05/2017</td>\n",
       "      <td>toyota imparable fabricara 120800 camionetas e...</td>\n",
       "      <td>toyota imparable fabricara 120800 camionetas e...</td>\n",
       "      <td>negocios</td>\n",
       "      <td>La Voz</td>\n",
       "    </tr>\n",
       "    <tr>\n",
       "      <th>1</th>\n",
       "      <td>02/05/2017</td>\n",
       "      <td>schiaretti le ofrecio de la sota encabezar la ...</td>\n",
       "      <td>schiaretti le ofrecio de la sota encabezar la ...</td>\n",
       "      <td>politica</td>\n",
       "      <td>La Voz</td>\n",
       "    </tr>\n",
       "    <tr>\n",
       "      <th>2</th>\n",
       "      <td>02/05/2017</td>\n",
       "      <td>el finde largo movio unos 200 mil turistas en ...</td>\n",
       "      <td>el finde largo movio unos 200 mil turistas en ...</td>\n",
       "      <td>ciudadanos</td>\n",
       "      <td>La Voz</td>\n",
       "    </tr>\n",
       "    <tr>\n",
       "      <th>3</th>\n",
       "      <td>02/05/2017</td>\n",
       "      <td>abril de luto 29 victimas fatales en rutas y c...</td>\n",
       "      <td>abril de luto 29 victimas fatales en rutas y c...</td>\n",
       "      <td>sucesos</td>\n",
       "      <td>La Voz</td>\n",
       "    </tr>\n",
       "    <tr>\n",
       "      <th>4</th>\n",
       "      <td>02/05/2017</td>\n",
       "      <td>la oposicion llamo la rebelion contra constitu...</td>\n",
       "      <td>la oposicion llamo la rebelion contra constitu...</td>\n",
       "      <td>mundo</td>\n",
       "      <td>La Voz</td>\n",
       "    </tr>\n",
       "  </tbody>\n",
       "</table>\n",
       "</div>"
      ],
      "text/plain": [
       "         Date                                              Title  \\\n",
       "0  02/05/2017  toyota imparable fabricara 120800 camionetas e...   \n",
       "1  02/05/2017  schiaretti le ofrecio de la sota encabezar la ...   \n",
       "2  02/05/2017  el finde largo movio unos 200 mil turistas en ...   \n",
       "3  02/05/2017  abril de luto 29 victimas fatales en rutas y c...   \n",
       "4  02/05/2017  la oposicion llamo la rebelion contra constitu...   \n",
       "\n",
       "                                          Encabezado    SecLabel   Media  \n",
       "0  toyota imparable fabricara 120800 camionetas e...    negocios  La Voz  \n",
       "1  schiaretti le ofrecio de la sota encabezar la ...    politica  La Voz  \n",
       "2  el finde largo movio unos 200 mil turistas en ...  ciudadanos  La Voz  \n",
       "3  abril de luto 29 victimas fatales en rutas y c...     sucesos  La Voz  \n",
       "4  la oposicion llamo la rebelion contra constitu...       mundo  La Voz  "
      ]
     },
     "execution_count": 5,
     "metadata": {},
     "output_type": "execute_result"
    }
   ],
   "source": [
    "LaVoz = pd.read_table('/users/hnesman/Downloads/DATA_Science/LaVoz.txt',delimiter=\"|\")\n",
    "LaVoz['Media'] = 'La Voz'\n",
    "LaVoz.columns = ['Date','Title','Encabezado','SecLabel','Media']\n",
    "LaVoz.to_csv('/users/hnesman/Downloads/DATA_Science/LaVoz.csv')\n",
    "LaVoz.head()"
   ]
  }
 ],
 "metadata": {
  "kernelspec": {
   "display_name": "Python 2",
   "language": "python",
   "name": "python2"
  },
  "language_info": {
   "codemirror_mode": {
    "name": "ipython",
    "version": 2
   },
   "file_extension": ".py",
   "mimetype": "text/x-python",
   "name": "python",
   "nbconvert_exporter": "python",
   "pygments_lexer": "ipython2",
   "version": "2.7.13"
  }
 },
 "nbformat": 4,
 "nbformat_minor": 2
}

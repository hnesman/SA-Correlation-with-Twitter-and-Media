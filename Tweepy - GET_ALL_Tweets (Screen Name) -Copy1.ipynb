{
 "cells": [
  {
   "cell_type": "code",
   "execution_count": 1,
   "metadata": {
    "collapsed": false
   },
   "outputs": [],
   "source": [
    "#consumer key, consumer secret, access token, access secret.\n",
    "ckey=\"\"\n",
    "csecret=\"\"\n",
    "atoken=\"\"\n",
    "asecret=\"\"\n",
    "\n",
    "import tweepy\n",
    "\n",
    "auth = tweepy.OAuthHandler(ckey, csecret)\n",
    "auth.set_access_token(atoken, asecret)\n",
    "\n",
    "api = tweepy.API(auth)\n"
   ]
  },
  {
   "cell_type": "code",
   "execution_count": 21,
   "metadata": {
    "collapsed": false
   },
   "outputs": [],
   "source": [
    "#!/usr/bin/env python\n",
    "# encoding: utf-8\n",
    "\n",
    "import tweepy #https://github.com/tweepy/tweepy\n",
    "import csv\n",
    "\n",
    "\n",
    "def get_all_tweets(screen_name):\n",
    "\t#Twitter only allows access to a users most recent 3240 tweets with this method\n",
    "\t\n",
    "\t#authorize twitter, initialize tweepy\n",
    "\tauth = tweepy.OAuthHandler(ckey, csecret)\n",
    "\tauth.set_access_token(atoken, asecret)\n",
    "\tapi = tweepy.API(auth)\n",
    "\t\n",
    "\t#initialize a list to hold all the tweepy Tweets\n",
    "\talltweets = []\t\n",
    "\t\n",
    "\t#make initial request for most recent tweets (200 is the maximum allowed count)\n",
    "\tnew_tweets = api.user_timeline(screen_name = screen_name,count=10)\n",
    "\t\n",
    "\t#save most recent tweets\n",
    "\talltweets.extend(new_tweets)\n",
    "\t\n",
    "\t#save the id of the oldest tweet less one\n",
    "\toldest = alltweets[-1].id - 1\n",
    "\t\n",
    "\t#keep grabbing tweets until there are no tweets left to grab\n",
    "\twhile len(new_tweets) > 0:\n",
    "\t\tprint \"getting tweets before %s\" % (oldest)\n",
    "\t\t\n",
    "\t\t#all subsiquent requests use the max_id param to prevent duplicates\n",
    "\t\tnew_tweets = api.user_timeline(screen_name = screen_name,count=200,max_id=oldest)\n",
    "\t\t\n",
    "\t\t#save most recent tweets\n",
    "\t\talltweets.extend(new_tweets)\n",
    "\t\t\n",
    "\t\t#update the id of the oldest tweet less one\n",
    "\t\toldest = alltweets[-1].id - 1\n",
    "\t\t\n",
    "\t\tprint \"...%s tweets downloaded so far\" % (len(alltweets))\n",
    "\t\n",
    "\t#transform the tweepy tweets into a 2D array that will populate the csv\t\n",
    "\touttweets = [[tweet.id_str, tweet.created_at, str(tweet.text.encode(\"utf-8\")), tweet.favorite_count, tweet.retweet_count] for tweet in alltweets]\n",
    "\t\n",
    "\t#write the csv\t\n",
    "\twith open('/users/hnesman/Downloads/DATA_Science/%s_tweets.csv' % screen_name, 'wb') as f:\n",
    "\t\twriter = csv.writer(f)\n",
    "\t\twriter.writerow([\"id\",\"created_at\",\"text\",\"favorite_count\", \"retweet_count\"])\n",
    "\t\twriter.writerows(outtweets)\n",
    "\t\n",
    "\tpass"
   ]
  },
  {
   "cell_type": "code",
   "execution_count": 23,
   "metadata": {
    "collapsed": false,
    "scrolled": true
   },
   "outputs": [
    {
     "name": "stdout",
     "output_type": "stream",
     "text": [
      "getting tweets before 857679180330303489\n",
      "...210 tweets downloaded so far\n",
      "getting tweets before 834471916174004227\n",
      "...410 tweets downloaded so far\n",
      "getting tweets before 786346155172962303\n",
      "...610 tweets downloaded so far\n",
      "getting tweets before 768054888660099071\n",
      "...810 tweets downloaded so far\n",
      "getting tweets before 745950489448222719\n",
      "...1010 tweets downloaded so far\n",
      "getting tweets before 703257725325742079\n",
      "...1210 tweets downloaded so far\n",
      "getting tweets before 667485007020191743\n",
      "...1410 tweets downloaded so far\n",
      "getting tweets before 661964437503520767\n",
      "...1610 tweets downloaded so far\n",
      "getting tweets before 656264154483924991\n",
      "...1810 tweets downloaded so far\n",
      "getting tweets before 648646425379762175\n",
      "...2010 tweets downloaded so far\n",
      "getting tweets before 628368737180221444\n",
      "...2210 tweets downloaded so far\n",
      "getting tweets before 522011312340365311\n",
      "...2405 tweets downloaded so far\n",
      "getting tweets before 468899093302231039\n",
      "...2601 tweets downloaded so far\n",
      "getting tweets before 426448376922525696\n",
      "...2801 tweets downloaded so far\n",
      "getting tweets before 391654231801077759\n",
      "...3001 tweets downloaded so far\n",
      "getting tweets before 352762892099141632\n",
      "...3201 tweets downloaded so far\n",
      "getting tweets before 323245410116329471\n",
      "...3216 tweets downloaded so far\n",
      "getting tweets before 322108275065769983\n",
      "...3216 tweets downloaded so far\n"
     ]
    }
   ],
   "source": [
    "get_all_tweets('MauricioMacri')"
   ]
  }
 ],
 "metadata": {
  "kernelspec": {
   "display_name": "Python 2",
   "language": "python",
   "name": "python2"
  },
  "language_info": {
   "codemirror_mode": {
    "name": "ipython",
    "version": 2
   },
   "file_extension": ".py",
   "mimetype": "text/x-python",
   "name": "python",
   "nbconvert_exporter": "python",
   "pygments_lexer": "ipython2",
   "version": "2.7.13"
  }
 },
 "nbformat": 4,
 "nbformat_minor": 2
}

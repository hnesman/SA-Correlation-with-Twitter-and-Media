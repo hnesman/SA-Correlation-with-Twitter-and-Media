{
 "cells": [
  {
   "cell_type": "code",
   "execution_count": 1,
   "metadata": {
    "collapsed": true
   },
   "outputs": [],
   "source": [
    "import pandas as pd\n",
    "import numpy as np\n",
    "import tweepy\n",
    "\n",
    "try:\n",
    "    import json\n",
    "except ImportError:\n",
    "    import simplejson as json"
   ]
  },
  {
   "cell_type": "code",
   "execution_count": 2,
   "metadata": {
    "collapsed": false
   },
   "outputs": [],
   "source": [
    "# I set up my credentials for getting access to Twitter API\n",
    "ckey=\"btyxpVnvWkPG1pmnwPLByzse4\"\n",
    "csecret=\"BxvPvVzpW7HwPwy0tWW4skOwcGfFEZ01CtRVPwSpoyjXUVUVf8\"\n",
    "atoken=\"848659773176385536-KtFLOtwUxxGl20cpcyIG5aFusEaR7iT\"\n",
    "asecret=\"pCEy2mgprgfXEB2o76msPV3uFTmfbvGFRozYbCFj6TcFc\"\n",
    "\n",
    "# Initialise Tweepy\n",
    "auth = tweepy.OAuthHandler(ckey, csecret)\n",
    "auth.set_access_token(atoken, asecret)\n",
    "api = tweepy.API(auth)"
   ]
  },
  {
   "cell_type": "code",
   "execution_count": 15,
   "metadata": {
    "collapsed": false
   },
   "outputs": [],
   "source": [
    "# I define 'search_tweets'\n",
    "\n",
    "#!/usr/bin/env python\n",
    "# encoding: utf-8\n",
    "\n",
    "import tweepy #https://github.com/tweepy/tweepy\n",
    "import csv\n",
    "\n",
    "# Date as YYYY-MM-DD\n",
    "def search_tweets(query,date):\n",
    "\t#Twitter only allows access to a users most recent 3240 tweets with this method\n",
    "\t\n",
    "\t#authorize twitter, initialize tweepy\n",
    "\tauth = tweepy.OAuthHandler(ckey, csecret)\n",
    "\tauth.set_access_token(atoken, asecret)\n",
    "\tapi = tweepy.API(auth)\n",
    "\t\n",
    "\t#initialize a list to hold all the tweepy Tweets\n",
    "\talltweets = []\t\n",
    "\t\n",
    "\t#make initial request for most recent tweets (200 is the maximum allowed count)\n",
    "\tnew_tweets = api.search(q = query,count=10, result_type = 'recent', include_entities =  True)\n",
    "\t\n",
    "\t#save most recent tweets\n",
    "\talltweets.extend(new_tweets)\n",
    "\t\n",
    "\t#save the id of the oldest tweet less one\n",
    "\toldest = alltweets[-1].id - 1\n",
    "\t\n",
    "\t#keep grabbing tweets until there are no tweets left to grab\n",
    "\twhile len(new_tweets) > 0 and len(alltweets) < 3000:\n",
    "\t\tprint \"getting tweets before %s\" % (oldest)\n",
    "\t\t\n",
    "\t\t#all subsiquent requests use the max_id param to prevent duplicates\n",
    "\t\tnew_tweets = api.search(q = query ,count=200,max_id=oldest, result_type = 'recent', include_entities = True)\n",
    "\t\t\n",
    "\t\t#save most recent tweets\n",
    "\t\talltweets.extend(new_tweets)\n",
    "\t\t\n",
    "\t\t#update the id of the oldest tweet less one\n",
    "\t\toldest = alltweets[-1].id - 1\n",
    "\t\t\n",
    "\t\tprint \"...%s tweets downloaded so far\" % (len(alltweets))   \n",
    "\t\n",
    "\t#transform the tweepy tweets into a 2D array that will populate the csv\t\n",
    "\touttweets = [[tweet.id_str, query, str(tweet.user.name.encode(\"utf-8\")), tweet.created_at, str(tweet.text.encode(\"utf-8\")).replace('\\n', ' ').replace('\\r', ''), tweet.favorite_count, tweet.retweet_count, tweet.user.followers_count] for tweet in alltweets]\n",
    "\t\n",
    "\t#write the csv\t\n",
    "# \twith open('/users/hnesman/Downloads/DATA_Science/Tweets_Bin/Tweets_Search_%s.csv' % (date) , 'wb') as f:\n",
    "# \twriter = csv.writer(f,delimiter ='|')\n",
    "\twriter.writerow([\"id\",\"query\",\"Username\",\"created_at\",\"text\",\"favorite_count\", \"retweet_count\",\"user's followers count\"])\n",
    "\twriter.writerows(outtweets)\n",
    "\t\n",
    "\tpass"
   ]
  },
  {
   "cell_type": "code",
   "execution_count": 18,
   "metadata": {
    "collapsed": false,
    "scrolled": true
   },
   "outputs": [
    {
     "name": "stdout",
     "output_type": "stream",
     "text": [
      "jefe policía ciudad\n",
      "getting tweets before 860901755130871807\n",
      "...110 tweets downloaded so far\n",
      "getting tweets before 860307579926401024\n",
      "...210 tweets downloaded so far\n",
      "getting tweets before 860220360838586369\n",
      "...310 tweets downloaded so far\n",
      "getting tweets before 859769971714478079\n",
      "...410 tweets downloaded so far\n",
      "getting tweets before 859375937766522879\n",
      "...510 tweets downloaded so far\n",
      "getting tweets before 858543008190431235\n",
      "...610 tweets downloaded so far\n",
      "getting tweets before 858155661410152447\n",
      "...710 tweets downloaded so far\n",
      "getting tweets before 858074988963930111\n",
      "...791 tweets downloaded so far\n",
      "getting tweets before 857644956885942272\n",
      "...791 tweets downloaded so far\n",
      "video analista político\n",
      "getting tweets before 861040686908551167\n",
      "...110 tweets downloaded so far\n",
      "getting tweets before 857784382962225151\n",
      "...111 tweets downloaded so far\n",
      "getting tweets before 857780305024995328\n",
      "...111 tweets downloaded so far\n"
     ]
    }
   ],
   "source": [
    "query = ['jefe policía ciudad', 'video analista político']\n",
    "date = '2017-05-06'\n",
    "\n",
    "for i in query:\n",
    "    print i\n",
    "    f = open('/users/hnesman/Downloads/DATA_Science/Tweets_Bin/%s_Tweets_Search_%s.csv' % (i, date) , 'wb')\n",
    "    writer = csv.writer(f,delimiter ='|')\n",
    "    search_tweets(i,date)\n",
    "    \n"
   ]
  },
  {
   "cell_type": "code",
   "execution_count": 10,
   "metadata": {
    "collapsed": false
   },
   "outputs": [
    {
     "name": "stdout",
     "output_type": "stream",
     "text": [
      "15\n",
      "857745374332768259\n"
     ]
    }
   ],
   "source": [
    "# REST API\n",
    "alltweets_ = []\n",
    "query = api.search(q = \"2x1\", until = '2017-04-28')\n",
    "\n",
    "alltweets_.extend(query)\n",
    "print len(query)\n",
    "\n",
    "# This prints the id of the last Tweet\n",
    "oldest = alltweets_[-1].id - 1\n",
    "print oldest\n",
    "\n"
   ]
  },
  {
   "cell_type": "code",
   "execution_count": 3,
   "metadata": {
    "collapsed": false
   },
   "outputs": [],
   "source": [
    "# public_tweets = api.user_timeline(id ='mauriciomacri' )\n",
    "# for tweet in public_tweets:\n",
    "#     print tweet.text"
   ]
  },
  {
   "cell_type": "code",
   "execution_count": 5,
   "metadata": {
    "collapsed": false
   },
   "outputs": [
    {
     "data": {
      "text/plain": [
       "3"
      ]
     },
     "execution_count": 5,
     "metadata": {},
     "output_type": "execute_result"
    }
   ],
   "source": [
    "import csv\n",
    "auth = tweepy.OAuthHandler(ckey, csecret)\n",
    "auth.set_access_token(atoken, asecret)\n",
    "api = tweepy.API(auth)\n",
    "\n",
    "\n",
    "screen_name = ['hnesman']\n",
    "followers = api.followers(screen_name = 'hnesman')\n",
    "len(followers)"
   ]
  },
  {
   "cell_type": "code",
   "execution_count": null,
   "metadata": {
    "collapsed": false
   },
   "outputs": [],
   "source": [
    "import tweepy\n",
    "\n",
    "ckey=\"oglAcoBXr2U41V3BRerO8SoiX\"\n",
    "csecret=\"o3MmdHBNQX5O5SV84N70IHkRCIPgOiVKNwIg1PQMznq1ZuvM8j\"\n",
    "atoken=\"848659773176385536-XOsIpQcOurrAYHE8qjnq6yq2gtJpw01\"\n",
    "asecret=\"gIazV001cMvvqtPdfJ1XyksnwSrednnNYQMb1z44PysPb\"\n",
    "\n",
    "auth = tweepy.OAuthHandler(ckey, csecret)\n",
    "auth.set_access_token(atoken, asecret)\n",
    "api = tweepy.API(auth)\n",
    "alltweets = []\n",
    "for tweet in tweepy.Cursor(api.search,\n",
    "                           q=\"domingo\",\n",
    "                           rpp=100,\n",
    "                           result_type=\"recent\",\n",
    "                           include_entities=True\n",
    "                        ).items():\n",
    "    print tweet.created_at, tweet.text\n",
    "\n",
    "\n",
    "    \n",
    "date = now()\n",
    "\t#make initial request for most recent tweets (200 is the maximum allowed count)\n",
    "\tnew_tweets = api.search(created_at = date,)\n",
    "\t\n",
    "\t#save most recent tweets\n",
    "\talltweets.extend(new_tweets)\n",
    "\t\n",
    "\t#save the id of the oldest tweet less one\n",
    "\toldest = alltweets[-1].id - 1\n",
    "\t\n",
    "\t#keep grabbing tweets until there are no tweets left to grab\n",
    "\twhile len(new_tweets) > 0:\n",
    "\t\tprint \"getting tweets before %s\" % (oldest)\n",
    "\t\t\n",
    "\t\t#all subsiquent requests use the max_id param to prevent duplicates\n",
    "\t\tnew_tweets = api.user_timeline(screen_name = screen_name,count=200,max_id=oldest)\n",
    "\t\t\n",
    "\t\t#save most recent tweets\n",
    "\t\talltweets.extend(new_tweets)\n",
    "\t\t\n",
    "\t\t#update the id of the oldest tweet less one\n",
    "\t\toldest = alltweets[-1].id - 1\n",
    "\t\t\n",
    "\t\tprint \"...%s tweets downloaded so far\" % (len(alltweets))\n",
    "\t\n",
    "\t#transform the tweepy tweets into a 2D array that will populate the csv\t\n",
    "\touttweets = [[tweet.id_str, tweet.created_at, str(tweet.text.encode(\"utf-8\"))] for tweet in alltweets]\n",
    "\t\n",
    "\t#write the csv\t\n",
    "\twith open('/users/hnesman/Downloads/DATA_Science/Agentes_Twitter_Media/%s_tweets.csv' % screen_name, 'wb') as f:\n",
    "\t\twriter = csv.writer(f)\n",
    "\t\twriter.writerow([\"id\",\"created_at\",\"text\"])\n",
    "\t\twriter.writerows(outtweets)\n",
    "\t\n",
    "\tpass"
   ]
  },
  {
   "cell_type": "code",
   "execution_count": 47,
   "metadata": {
    "collapsed": false
   },
   "outputs": [],
   "source": [
    "# Get the User object for twitter...\n",
    "# user = api.get_user('macri')\n",
    "# print user.screen_name\n",
    "# print user.followers_count\n",
    "# followers =[]\n",
    "# for friend in user.followers():\n",
    "#     follow = friend.screen_name\n",
    "#     followers.extend(follow) "
   ]
  }
 ],
 "metadata": {
  "kernelspec": {
   "display_name": "Python 2",
   "language": "python",
   "name": "python2"
  },
  "language_info": {
   "codemirror_mode": {
    "name": "ipython",
    "version": 2
   },
   "file_extension": ".py",
   "mimetype": "text/x-python",
   "name": "python",
   "nbconvert_exporter": "python",
   "pygments_lexer": "ipython2",
   "version": "2.7.13"
  }
 },
 "nbformat": 4,
 "nbformat_minor": 2
}
